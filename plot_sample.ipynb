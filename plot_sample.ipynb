{
 "cells": [
  {
   "cell_type": "code",
   "execution_count": 1,
   "id": "5cfce364",
   "metadata": {},
   "outputs": [],
   "source": [
    "\"\"\"Generate error bar plot\"\"\"\n",
    "\n",
    "import click\n",
    "import matplotlib.pyplot as plt\n",
    "import nonlinear_benchmarks\n",
    "import numpy as np\n",
    "from sklearn.metrics import r2_score"
   ]
  },
  {
   "cell_type": "code",
   "execution_count": null,
   "id": "bce4497f",
   "metadata": {},
   "outputs": [],
   "source": [
    "from utils import (\n",
    "    fastcan_pruned_narx,\n",
    "    get_dual_stable_equilibria_data,\n",
    "    get_narx_terms,\n",
    "    random_pruned_narx,\n",
    ")"
   ]
  }
 ],
 "metadata": {
  "kernelspec": {
   "display_name": ".venv",
   "language": "python",
   "name": "python3"
  },
  "language_info": {
   "codemirror_mode": {
    "name": "ipython",
    "version": 3
   },
   "file_extension": ".py",
   "mimetype": "text/x-python",
   "name": "python",
   "nbconvert_exporter": "python",
   "pygments_lexer": "ipython3",
   "version": "3.13.1"
  }
 },
 "nbformat": 4,
 "nbformat_minor": 5
}
